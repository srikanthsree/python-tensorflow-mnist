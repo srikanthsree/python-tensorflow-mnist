{
 "cells": [
  {
   "cell_type": "code",
   "execution_count": 1,
   "metadata": {
    "collapsed": true
   },
   "outputs": [],
   "source": [
    "%matplotlib inline\n",
    "import matplotlib\n",
    "import numpy as np\n",
    "import matplotlib.pyplot as plt\n",
    "import sklearn.datasets \n",
    "import tensorflow as tf\n",
    "from tensorflow.python.framework.ops import reset_default_graph"
   ]
  },
  {
   "cell_type": "code",
   "execution_count": 2,
   "metadata": {
    "collapsed": true
   },
   "outputs": [],
   "source": [
    "def onehot(t, num_classes):\n",
    "    out = np.zeros((t.shape[0], num_classes),'uint8')\n",
    "    for row, col in enumerate(t):\n",
    "        out[row, col] = 1\n",
    "    return out"
   ]
  },
  {
   "cell_type": "code",
   "execution_count": 3,
   "metadata": {
    "collapsed": true
   },
   "outputs": [],
   "source": [
    "np.random.seed(0)\n",
    "num_samples = 10000\n",
    "X,y = sklearn.datasets.make_moons(num_samples, noise = 0.2)\n",
    "num_features = X.shape[1]\n",
    "num_output = np.unique(y).shape[0]\n",
    "\n",
    "x_train = X[:6000].astype('float32')\n",
    "x_valid = X[6000:8000].astype('float32')\n",
    "x_test = X[8000:].astype('float32')\n",
    "\n",
    "y_train = onehot(y[:6000].astype('int32'),num_output)\n",
    "y_valid = onehot(y[6000:8000].astype('int32'),num_output)\n",
    "y_test = onehot(y[8000:].astype('int32'),num_output)"
   ]
  },
  {
   "cell_type": "code",
   "execution_count": 4,
   "metadata": {
    "collapsed": true
   },
   "outputs": [],
   "source": [
    "n_nodes_hl1 = 200\n",
    "n_nodes_hl2 = 200\n",
    "\n",
    "n_classes = np.unique(y).shape[0]\n",
    "batch_size = 100 # batches of features feed to network\n",
    "\n",
    "x = tf.placeholder('float', [None, 2])\n",
    "y = tf.placeholder('float')"
   ]
  },
  {
   "cell_type": "code",
   "execution_count": 5,
   "metadata": {
    "collapsed": true
   },
   "outputs": [],
   "source": [
    "def neural_network_model(data):\n",
    "    hidden_1_layer = {'weights':tf.Variable(tf.random_normal([num_output, n_nodes_hl1])),\n",
    "                      'biases':tf.Variable(tf.random_normal([n_nodes_hl1]))}\n",
    "\n",
    "    hidden_2_layer = {'weights':tf.Variable(tf.random_normal([n_nodes_hl1, n_nodes_hl2])),\n",
    "                      'biases':tf.Variable(tf.random_normal([n_nodes_hl2]))}\n",
    "\n",
    "    output_layer = {'weights':tf.Variable(tf.random_normal([n_nodes_hl2, n_classes])),\n",
    "                    'biases':tf.Variable(tf.random_normal([n_classes])),}\n",
    "\n",
    " \t# (input_data * weights) + biases\n",
    "\n",
    "    l1 = tf.add(tf.matmul(data,hidden_1_layer['weights']), hidden_1_layer['biases'])\n",
    "    l1 = tf.nn.relu(l1)\n",
    "\n",
    "    l2 = tf.add(tf.matmul(l1,hidden_2_layer['weights']), hidden_2_layer['biases'])\n",
    "    l2 = tf.nn.relu(l2)\n",
    "\n",
    "    output = tf.matmul(l2,output_layer['weights']) + output_layer['biases']\n",
    "\n",
    "    return output"
   ]
  },
  {
   "cell_type": "code",
   "execution_count": 6,
   "metadata": {
    "collapsed": true
   },
   "outputs": [],
   "source": [
    "def train_neural_network(x):\n",
    "    prediction = neural_network_model(x)\n",
    "    cost = tf.reduce_mean( tf.nn.softmax_cross_entropy_with_logits(prediction,y) )\n",
    "    #cost = tf.reduce_mean( -tf.reduce_mean(tf.log(prediction)*y, reduction_indices=[1]) )\n",
    "    # optimizer has a default parameter- learning rate = 0.01\n",
    "    optimizer = tf.train.GradientDescentOptimizer(learning_rate=0.1).minimize(cost)\n",
    "    \n",
    "    hm_epochs = 10 #cycles feedforward+backward\n",
    "    train = []\n",
    "    valid = []\n",
    "    with tf.Session() as sess:\n",
    "        sess.run(tf.initialize_all_variables())\n",
    "        \n",
    "        correct = tf.equal(tf.argmax(prediction, 1), tf.argmax(y, 1))\n",
    "        accuracy = tf.reduce_mean(tf.cast(correct, 'float'))\n",
    "\n",
    "        for epoch in range(hm_epochs):\n",
    "            epoch_loss = 0\n",
    "            for i in range(len(x_train)//batch_size):\n",
    "                idx = range(i*batch_size, (i+1)*batch_size)\n",
    "                epoch_x = x_train[idx]\n",
    "                epoch_y = y_train[idx]\n",
    "                _, c = sess.run([optimizer, cost], feed_dict={x:epoch_x, y:epoch_y})\n",
    "                epoch_loss += c\n",
    "            \n",
    "            train_accu = accuracy.eval({x:x_train, y:y_train})\n",
    "            valid_accu = accuracy.eval({x:x_valid, y:y_valid})\n",
    "            train += [train_accu]\n",
    "            valid += [valid_accu]    \n",
    "            print ('Epoch', epoch+1,'loss:',epoch_loss,'train_accu:',train_accu,'valid_accu:',valid_accu)\n",
    "            \n",
    "        plt.figure()\n",
    "        plt.plot(np.arange(len(train)),train,'r',valid,'b')\n",
    "        plt.legend(['train','valid'])\n",
    "        test_acc = accuracy.eval({x:x_test, y:y_test})\n",
    "        print('test_acc:',test_acc)"
   ]
  },
  {
   "cell_type": "code",
   "execution_count": 7,
   "metadata": {
    "collapsed": false,
    "scrolled": true
   },
   "outputs": [
    {
     "name": "stdout",
     "output_type": "stream",
     "text": [
      "Epoch 1 loss: 1256.36817697 train_accu: 0.972167 valid_accu: 0.9695\n",
      "Epoch 2 loss: 38.6354295537 train_accu: 0.971667 valid_accu: 0.9685\n",
      "Epoch 3 loss: 28.5126784397 train_accu: 0.971 valid_accu: 0.967\n",
      "Epoch 4 loss: 25.2796817971 train_accu: 0.971333 valid_accu: 0.967\n",
      "Epoch 5 loss: 20.2416884173 train_accu: 0.971833 valid_accu: 0.969\n",
      "Epoch 6 loss: 17.7643092447 train_accu: 0.973167 valid_accu: 0.9665\n",
      "Epoch 7 loss: 15.5594614502 train_accu: 0.970833 valid_accu: 0.968\n",
      "Epoch 8 loss: 15.1900213696 train_accu: 0.970833 valid_accu: 0.9675\n",
      "Epoch 9 loss: 13.3048057919 train_accu: 0.972333 valid_accu: 0.968\n",
      "Epoch 10 loss: 12.2593464367 train_accu: 0.971333 valid_accu: 0.9665\n",
      "test_acc: 0.9655\n"
     ]
    },
    {
     "data": {
      "image/png": "[encoded data removed]",
      "text/plain": [
       "<matplotlib.figure.Figure at 0x7f937bfcdd30>"
      ]
     },
     "metadata": {},
     "output_type": "display_data"
    }
   ],
   "source": [
    "train_neural_network(x)"
   ]
  },
  {
   "cell_type": "code",
   "execution_count": null,
   "metadata": {
    "collapsed": true
   },
   "outputs": [],
   "source": []
  }
 ],
 "metadata": {
  "kernelspec": {
   "display_name": "Python 3",
   "language": "python",
   "name": "python3"
  },
  "language_info": {
   "codemirror_mode": {
    "name": "ipython",
    "version": 3
   },
   "file_extension": ".py",
   "mimetype": "text/x-python",
   "name": "python",
   "nbconvert_exporter": "python",
   "pygments_lexer": "ipython3",
   "version": "3.5.2"
  }
 },
 "nbformat": 4,
 "nbformat_minor": 2
}
