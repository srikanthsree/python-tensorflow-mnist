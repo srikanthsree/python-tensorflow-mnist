{
 "cells": [
  {
   "cell_type": "code",
   "execution_count": 1,
   "metadata": {
    "collapsed": false
   },
   "outputs": [],
   "source": [
    "import tensorflow as tf\n",
    "from tensorflow.examples.tutorials.mnist import input_data\n",
    "from tensorflow.python.framework.ops import reset_default_graph\n",
    "import numpy as np\n",
    "%matplotlib inline\n",
    "import matplotlib\n",
    "import matplotlib.pyplot as plt"
   ]
  },
  {
   "cell_type": "code",
   "execution_count": 2,
   "metadata": {
    "collapsed": false
   },
   "outputs": [
    {
     "name": "stdout",
     "output_type": "stream",
     "text": [
      "Successfully downloaded train-images-idx3-ubyte.gz 9912422 bytes.\n",
      "Extracting /tmp/data/train-images-idx3-ubyte.gz\n",
      "Successfully downloaded train-labels-idx1-ubyte.gz 28881 bytes.\n",
      "Extracting /tmp/data/train-labels-idx1-ubyte.gz\n",
      "Successfully downloaded t10k-images-idx3-ubyte.gz 1648877 bytes.\n",
      "Extracting /tmp/data/t10k-images-idx3-ubyte.gz\n",
      "Successfully downloaded t10k-labels-idx1-ubyte.gz 4542 bytes.\n",
      "Extracting /tmp/data/t10k-labels-idx1-ubyte.gz\n"
     ]
    }
   ],
   "source": [
    "mnist = input_data.read_data_sets(\"/tmp/data/\",one_hot = True)\n",
    "n_classes = 10"
   ]
  },
  {
   "cell_type": "code",
   "execution_count": 8,
   "metadata": {
    "collapsed": true
   },
   "outputs": [],
   "source": [
    "batch_size = 100\n",
    "training = 1000\n",
    "validing = 200\n",
    "testing = 50"
   ]
  },
  {
   "cell_type": "code",
   "execution_count": 3,
   "metadata": {
    "collapsed": false
   },
   "outputs": [],
   "source": [
    "x = tf.placeholder('float',[None,784])\n",
    "y = tf.placeholder('float')\n",
    "keep_rate = 0.8\n",
    "keep_prob = tf.placeholder(tf.float32)"
   ]
  },
  {
   "cell_type": "code",
   "execution_count": 4,
   "metadata": {
    "collapsed": true
   },
   "outputs": [],
   "source": [
    "def conv2d(x,W):\n",
    "    return tf.nn.conv2d(x, W, strides = [1,1,1,1], padding = 'SAME')\n",
    "def maxpool2d(x):\n",
    "    return tf.nn.max_pool(x,ksize=[1,2,2,1],strides=[1,2,2,1],padding = 'SAME')"
   ]
  },
  {
   "cell_type": "code",
   "execution_count": 5,
   "metadata": {
    "collapsed": true
   },
   "outputs": [],
   "source": [
    "def convolution_nn(x):\n",
    "    weights = {'W_conv1':tf.Variable(tf.random_normal([5,5,1,32])),\n",
    "               'W_conv2':tf.Variable(tf.random_normal([5,5,32,64])),\n",
    "               'W_fc':tf.Variable(tf.random_normal([7*7*64,1024])),\n",
    "               'out':tf.Variable(tf.random_normal([1024, n_classes]))}\n",
    "\n",
    "    biases = {'b_conv1':tf.Variable(tf.random_normal([32])),\n",
    "               'b_conv2':tf.Variable(tf.random_normal([64])),\n",
    "               'b_fc':tf.Variable(tf.random_normal([1024])),\n",
    "               'out':tf.Variable(tf.random_normal([n_classes]))}\n",
    "    \n",
    "    x = tf.reshape(x,shape = [-1,28,28,1])\n",
    "    \n",
    "    conv1 = tf.nn.relu(conv2d(x,weights['W_conv1'])+biases['b_conv1'])\n",
    "    conv1 = maxpool2d(conv1)\n",
    "    conv2 = tf.nn.relu(conv2d(conv1, weights['W_conv2']) + biases['b_conv2'])\n",
    "    conv2 = maxpool2d(conv2)\n",
    "    \n",
    "    fc = tf.reshape(conv2,[-1,7*7*64])\n",
    "    fc = tf.nn.relu(tf.matmul(fc,weights['W_fc'])+biases['b_fc'])\n",
    "    \n",
    "    fc = tf.nn.dropout(fc,keep_rate)\n",
    "    \n",
    "    output = tf.matmul(fc,weights['out'])+biases['out']\n",
    "    \n",
    "    return output"
   ]
  },
  {
   "cell_type": "code",
   "execution_count": 41,
   "metadata": {
    "collapsed": false
   },
   "outputs": [],
   "source": [
    "def train_nn(x):\n",
    "    prediction = convolution_nn(x)\n",
    "    cost = tf.reduce_mean(tf.nn.softmax_cross_entropy_with_logits(prediction,y))\n",
    "    optimizer = tf.train.AdamOptimizer().minimize(cost)\n",
    "    \n",
    "    correct = tf.equal(tf.argmax(prediction, 1), tf.argmax(y, 1))\n",
    "    accuracy = tf.reduce_mean(tf.cast(correct, 'float'))\n",
    "    \n",
    "    hm_epoches = 5\n",
    "    train = []\n",
    "    valid = []\n",
    "    with tf.Session() as sess:\n",
    "        sess.run(tf.initialize_all_variables())\n",
    "        for epoch in range(hm_epoches):\n",
    "            epoch_loss = 0\n",
    "            for i in range(int(training/batch_size)):\n",
    "                epoch_x = mnist.train.images[:training][:batch_size*(i+1)]\n",
    "                epoch_y = mnist.train.labels[:training][:batch_size*(i+1)]\n",
    "                _,c = sess.run([optimizer,cost],feed_dict = {x:epoch_x,y:epoch_y})\n",
    "                epoch_loss += c\n",
    "            train_acc = accuracy.eval({x:mnist.train.images[:training], y:mnist.train.labels[:training]})\n",
    "            valid_acc = accuracy.eval({x:mnist.validation.images[:validing], y:mnist.validation.labels[:validing]})\n",
    "            train += [train_acc]\n",
    "            valid += [valid_acc]\n",
    "            print('Epoch:',epoch+1, 'loss:',epoch_loss,'train_acc:',train_acc,'valid_acc:',valid_acc)\n",
    "    \n",
    "        plt.figure()\n",
    "        plt.plot(np.arange(len(train)),train,'r',valid,'b')\n",
    "        plt.legend(['train','valid'])\n",
    "        test_acc = accuracy.eval({x:mnist.test.images[:testing], y:mnist.test.labels[:testing]})\n",
    "        print('test_acc:',test_acc)"
   ]
  },
  {
   "cell_type": "code",
   "execution_count": 42,
   "metadata": {
    "collapsed": false,
    "scrolled": true
   },
   "outputs": [
    {
     "name": "stdout",
     "output_type": "stream",
     "text": [
      "Epoch: 1 loss: 592182.882812 train_acc: 0.17 valid_acc: 0.185\n",
      "Epoch: 2 loss: 287962.087891 train_acc: 0.398 valid_acc: 0.35\n",
      "Epoch: 3 loss: 160754.088867 train_acc: 0.55 valid_acc: 0.53\n",
      "Epoch: 4 loss: 93025.2666016 train_acc: 0.647 valid_acc: 0.585\n",
      "Epoch: 5 loss: 67111.2797852 train_acc: 0.725 valid_acc: 0.68\n",
      "test_acc: 0.74\n"
     ]
    },
    {
     "data": {
      "image/png": "[encoded data removed]",
      "text/plain": [
       "<matplotlib.figure.Figure at 0x7f40e2703c50>"
      ]
     },
     "metadata": {},
     "output_type": "display_data"
    }
   ],
   "source": [
    "train_nn(x)"
   ]
  },
  {
   "cell_type": "code",
   "execution_count": 45,
   "metadata": {
    "collapsed": false
   },
   "outputs": [
    {
     "name": "stdout",
     "output_type": "stream",
     "text": [
      "0.95367431640625\n"
     ]
    }
   ],
   "source": [
    "a = 1000000000\n",
    "for i in range(1000000):\n",
    "    a = a + 1e-6\n",
    "print(a-1000000000)    "
   ]
  },
  {
   "cell_type": "code",
   "execution_count": null,
   "metadata": {
    "collapsed": true
   },
   "outputs": [],
   "source": []
  }
 ],
 "metadata": {
  "kernelspec": {
   "display_name": "Python 3",
   "language": "python",
   "name": "python3"
  },
  "language_info": {
   "codemirror_mode": {
    "name": "ipython",
    "version": 3
   },
   "file_extension": ".py",
   "mimetype": "text/x-python",
   "name": "python",
   "nbconvert_exporter": "python",
   "pygments_lexer": "ipython3",
   "version": "3.5.2"
  }
 },
 "nbformat": 4,
 "nbformat_minor": 2
}
